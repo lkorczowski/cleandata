{
 "cells": [
  {
   "cell_type": "markdown",
   "metadata": {},
   "source": [
    "Load and visualize csv data with panda"
   ]
  },
  {
   "cell_type": "code",
   "execution_count": 1,
   "metadata": {
    "collapsed": false,
    "jupyter": {
     "outputs_hidden": false
    },
    "pycharm": {
     "name": "#%%\n"
    }
   },
   "outputs": [
    {
     "name": "stdout",
     "output_type": "stream",
     "text": [
      "Config loaded\n"
     ]
    }
   ],
   "source": [
    "import os\n",
    "PATH = os.getcwd() \n",
    "import sys\n",
    "sys.path.append(PATH + '/../')\n",
    "\n",
    "import pandas as pd\n",
    "from utils.config import Config\n",
    "from transform.table import load_df\n",
    "from gensim import models\n",
    "from gensim.corpora import Dictionary, MmCorpus\n",
    "import nltk\n",
    "\n",
    "\n",
    "print(\"Config loaded\")"
   ]
  },
  {
   "cell_type": "code",
   "execution_count": 2,
   "metadata": {
    "collapsed": false,
    "jupyter": {
     "outputs_hidden": false
    },
    "pycharm": {
     "name": "#%%\n"
    }
   },
   "outputs": [
    {
     "name": "stdout",
     "output_type": "stream",
     "text": [
      "['/Users/louis/Data/SIOPI/BDD_Acouphene_Loche_v2.csv', '/Users/louis/Data/SIOPI/BDD_Acouphene_Loche_v3.csv', '/Users/louis/Data/SIOPI/BDD_Acouphene_Loche_v4.csv', '/Users/louis/Data/SIOPI/BDD_Acouphene_Loche_v5.csv']\n"
     ]
    },
    {
     "data": {
      "text/plain": [
       "0       Cher Confrère, \\nCher Ami,\\n\\nMerci de mavoir...\n",
       "1       Merci de m'avoir confié Monsieur NOTELET Marce...\n",
       "2       Merci de mavoir confié Monsieur DAUPHIN Jean-...\n",
       "3       \\nMerci de mavoir confié Monsieur FLAHAUT Arn...\n",
       "4       SP bilat légère pred Dt  voc Nal  RS +\\nanxiét...\n",
       "                              ...                        \n",
       "2598    Cher Confrère,\\n\\nMerci de m'avoir confié Mme ...\n",
       "2599                                                  NaN\n",
       "2600                                                  NaN\n",
       "2601                                                  NaN\n",
       "2602                                                  NaN\n",
       "Name: courrier, Length: 2603, dtype: object"
      ]
     },
     "execution_count": 2,
     "metadata": {},
     "output_type": "execute_result"
    }
   ],
   "source": [
    "print(Config.csv_files)\n",
    "df = pd.read_csv(Config.csv_files[0], sep=';', encoding='ISO-8859-1')\n",
    "df.columns\n",
    "\n",
    "df[\"courrier\"] # this is what we should spare"
   ]
  },
  {
   "cell_type": "code",
   "execution_count": 3,
   "metadata": {
    "collapsed": false,
    "jupyter": {
     "outputs_hidden": false
    },
    "pycharm": {
     "name": "#%%\n"
    }
   },
   "outputs": [
    {
     "name": "stdout",
     "output_type": "stream",
     "text": [
      "df prepared\n"
     ]
    }
   ],
   "source": [
    "#TODO: preprocessed in BOW\n",
    "\n",
    "\n",
    "list_doc = []\n",
    "for line in df.iterrows():\n",
    "    list_doc.append(load_df(line[1]))\n",
    "docs = pd.DataFrame(list_doc).set_index(['group', 'id'])\n",
    "# list(map(load_doc, [glob('notebooks/pyLDAvis/data/20news-bydate-train/*/*')[0]]))\n",
    "# docs = pd.DataFrame(list(map(load_doc, glob('notebooks/pyLDAvis/data/20news-bydate-train/*/*')))).set_index(['group', 'id'])\n",
    "\n",
    "print(\"df prepared\")"
   ]
  },
  {
   "cell_type": "code",
   "execution_count": 9,
   "metadata": {
    "collapsed": false,
    "jupyter": {
     "outputs_hidden": false
    },
    "pycharm": {
     "name": "#%%\n"
    }
   },
   "outputs": [
    {
     "name": "stdout",
     "output_type": "stream",
     "text": [
      "Building dictionary...\n"
     ]
    },
    {
     "name": "stderr",
     "output_type": "stream",
     "text": [
      "[nltk_data] Downloading package stopwords to /Users/louis/nltk_data...\n",
      "[nltk_data]   Package stopwords is already up-to-date!\n"
     ]
    },
    {
     "name": "stdout",
     "output_type": "stream",
     "text": [
      "Building corpus...\n",
      "[(0, 1), (1, 1), (2, 1), (3, 1), (4, 1)]\n",
      "model saved\n"
     ]
    }
   ],
   "source": [
    "#TODO: train LDA model\n",
    "from transform.nlp import prep_corpus\n",
    "\n",
    "docs = docs[docs.astype(str)[\"tokens\"] != '[]'] # remove empty letters\n",
    "dictionary, corpus = prep_corpus(docs['tokens'])\n",
    "MmCorpus.serialize('courrier.mm', corpus)\n",
    "dictionary.save('courrier.dict')\n",
    "print(corpus[0][0:5])\n",
    "\n",
    "num_topics=5\n",
    "lda = models.ldamodel.LdaModel(corpus=corpus, id2word=dictionary, num_topics=num_topics, passes=10)\n",
    "\n",
    "lda.save(f'courrier_{num_topics}_lda.model')\n",
    "print(\"model saved\")"
   ]
  },
  {
   "cell_type": "code",
   "execution_count": null,
   "metadata": {
    "collapsed": false,
    "jupyter": {
     "outputs_hidden": false
    },
    "pycharm": {
     "name": "#%%\n"
    }
   },
   "outputs": [],
   "source": [
    "#TODO: visualize using pyLDA\n",
    "\n",
    "\n",
    "import pyLDAvis.gensim as gensimvis\n",
    "import pyLDAvis\n",
    "lda.load(f'courrier_{num_topics}_lda.model')\n",
    "vis_data = gensimvis.prepare(lda, corpus, dictionary)\n",
    "pyLDAvis.display(vis_data)"
   ]
  },
  {
   "cell_type": "code",
   "execution_count": null,
   "metadata": {
    "collapsed": false,
    "jupyter": {
     "outputs_hidden": false
    },
    "pycharm": {
     "name": "#%%\n"
    }
   },
   "outputs": [],
   "source": [
    "#TODO: use trained model to \n"
   ]
  }
 ],
 "metadata": {
  "kernelspec": {
   "display_name": "cleandata-kernel",
   "language": "python",
   "name": "cleandata-kernel"
  },
  "language_info": {
   "codemirror_mode": {
    "name": "ipython",
    "version": 3
   },
   "file_extension": ".py",
   "mimetype": "text/x-python",
   "name": "python",
   "nbconvert_exporter": "python",
   "pygments_lexer": "ipython3",
   "version": "3.7.7"
  },
  "pycharm": {
   "stem_cell": {
    "cell_type": "raw",
    "metadata": {
     "collapsed": false
    },
    "source": []
   }
  }
 },
 "nbformat": 4,
 "nbformat_minor": 4
}
