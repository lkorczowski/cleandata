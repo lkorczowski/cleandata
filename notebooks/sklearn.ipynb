{
 "cells": [
  {
   "cell_type": "code",
   "execution_count": 1,
   "metadata": {},
   "outputs": [],
   "source": [
    "import os\n",
    "import sys\n",
    "sys.path.insert(0, os.path.abspath('../utils'))"
   ]
  },
  {
   "cell_type": "markdown",
   "metadata": {
    "collapsed": true,
    "pycharm": {
     "name": "#%% md\n"
    }
   },
   "source": [
    "Load and visualize csv data with panda"
   ]
  },
  {
   "cell_type": "code",
   "execution_count": 58,
   "metadata": {
    "pycharm": {
     "is_executing": false,
     "name": "#%%\n"
    }
   },
   "outputs": [
    {
     "name": "stdout",
     "output_type": "stream",
     "text": [
      "Config loaded\n"
     ]
    }
   ],
   "source": [
    "from sklearn.datasets import fetch_20newsgroups\n",
    "from sklearn.feature_extraction.text import CountVectorizer, TfidfVectorizer\n",
    "from sklearn.decomposition import LatentDirichletAllocation\n",
    "import numpy as np\n",
    "import pandas as pd\n",
    "from config import Config\n",
    "import pyLDAvis\n",
    "import pyLDAvis.sklearn\n",
    "import pickle\n",
    "pyLDAvis.enable_notebook()\n",
    "\n",
    "print(\"Config loaded\")"
   ]
  },
  {
   "cell_type": "code",
   "execution_count": 45,
   "metadata": {
    "pycharm": {
     "is_executing": false,
     "name": "#%%\n"
    }
   },
   "outputs": [],
   "source": [
    "\n",
    "df = pd.read_csv(Config.csv_files[-1], sep=';', encoding='ISO-8859-1')\n",
    "df.columns\n",
    "\n",
    "courriers=df[\"courrier\"]# this is what we should spare\n",
    "courriers_cleaned=[courrier for courrier in courriers if isinstance(courrier,str)]"
   ]
  },
  {
   "cell_type": "code",
   "execution_count": null,
   "metadata": {},
   "outputs": [],
   "source": [
    "stop_words=['alors','au','aucuns','aussi','autre','avant','avec','avoir','bon','car','ce','cela','ces','ceux','chaque','ci','comme','comment','dans','des','du','dedans','dehors','depuis','devrait','doit','donc','dos','début','elle','elles','en','encore','essai','est','et',\n",
    "                  'eu','fait','faites','fois','font',\n",
    "                  'hors','ici','il','ils','je',\n",
    "                  'juste','la','le','les','leur',\n",
    "                  'là','ma','maintenant','mais','mes',\n",
    "                  'mien','moins','mon','mot','même',\n",
    "                  'ni','nommés','notre','nous','ou',\n",
    "                  'où','par','parce','pas','peut',\n",
    "                  'peu','plupart','pour','pourquoi','quand',\n",
    "                  'que','quel','quelle','quelles','quels',\n",
    "                  'qui','sa','sans','ses','seulement',\n",
    "                  'si','sien','son','sont','sous',\n",
    "                  'soyez','sujet','sur','ta','tandis',\n",
    "                  'tellement','tels','tes','ton','tous',\n",
    "                  'tout','trop','très','tu','voient',\n",
    "                  'vont','votre','vous','vu','ça',\n",
    "                  'étaient','état','étions','été','être']\n"
   ]
  },
  {
   "cell_type": "code",
   "execution_count": 53,
   "metadata": {
    "pycharm": {
     "is_executing": false,
     "name": "#%%\n"
    }
   },
   "outputs": [
    {
     "name": "stdout",
     "output_type": "stream",
     "text": [
      "(3, 283)\n"
     ]
    }
   ],
   "source": [
    "tf_vectorizer = CountVectorizer(encoding='ISO-8859-1',\n",
    "                                strip_accents = None,\n",
    "                                stop_words = french_stop_word,\n",
    "                                lowercase = True,\n",
    "                                token_pattern = r'\\b[a-zA-Z]{3,}\\b',\n",
    "                                max_df = 0.5, \n",
    "                                min_df = 1)\n",
    "dtm_tf = tf_vectorizer.fit_transform(courriers_cleaned)\n",
    "print(dtm_tf.shape)\n"
   ]
  },
  {
   "cell_type": "code",
   "execution_count": 54,
   "metadata": {
    "pycharm": {
     "name": "#%%\n"
    }
   },
   "outputs": [
    {
     "name": "stdout",
     "output_type": "stream",
     "text": [
      "(3, 283)\n"
     ]
    },
    {
     "name": "stderr",
     "output_type": "stream",
     "text": [
      "/home/morgan/.conda/envs/cleandata-env/lib/python3.7/site-packages/sklearn/feature_extraction/text.py:1817: UserWarning: Only (<class 'numpy.float64'>, <class 'numpy.float32'>, <class 'numpy.float16'>) 'dtype' should be used. <class 'numpy.int64'> 'dtype' will be converted to np.float64.\n",
      "  UserWarning)\n"
     ]
    }
   ],
   "source": [
    "tfidf_vectorizer = TfidfVectorizer(**tf_vectorizer.get_params())\n",
    "dtm_tfidf = tfidf_vectorizer.fit_transform(courriers_cleaned)\n",
    "print(dtm_tfidf.shape)"
   ]
  },
  {
   "cell_type": "code",
   "execution_count": 51,
   "metadata": {},
   "outputs": [],
   "source": []
  },
  {
   "cell_type": "code",
   "execution_count": 64,
   "metadata": {
    "pycharm": {
     "name": "#%%\n"
    }
   },
   "outputs": [
    {
     "data": {
      "text/plain": [
       "LatentDirichletAllocation(batch_size=128, doc_topic_prior=None,\n",
       "                          evaluate_every=-1, learning_decay=0.7,\n",
       "                          learning_method='batch', learning_offset=10.0,\n",
       "                          max_doc_update_iter=100, max_iter=10,\n",
       "                          mean_change_tol=0.001, n_components=3, n_jobs=None,\n",
       "                          perp_tol=0.1, random_state=0, topic_word_prior=None,\n",
       "                          total_samples=1000000.0, verbose=0)"
      ]
     },
     "execution_count": 64,
     "metadata": {},
     "output_type": "execute_result"
    }
   ],
   "source": [
    "# for TF DTM\n",
    "lda_tf = LatentDirichletAllocation(n_components=3, random_state=0)\n",
    "lda_tf.fit(dtm_tf)\n",
    "# for TFIDF DTM\n",
    "lda_tfidf = LatentDirichletAllocation(n_components=3, random_state=0)\n",
    "lda_tfidf.fit(dtm_tfidf)"
   ]
  },
  {
   "cell_type": "code",
   "execution_count": 57,
   "metadata": {},
   "outputs": [
    {
     "data": {
      "text/html": [
       "\n",
       "<link rel=\"stylesheet\" type=\"text/css\" href=\"https://cdn.rawgit.com/bmabey/pyLDAvis/files/ldavis.v1.0.0.css\">\n",
       "\n",
       "\n",
       "<div id=\"ldavis_el150751403066449460002092077540\"></div>\n",
       "<script type=\"text/javascript\">\n",
       "\n",
       "var ldavis_el150751403066449460002092077540_data = {\"mdsDat\": {\"x\": [0.10770329269699233, -0.09852848693125876, -0.009174805765733589], \"y\": [-0.03627419905859824, -0.047448066536548324, 0.08372226559514659], \"topics\": [1, 2, 3], \"cluster\": [1, 1, 1], \"Freq\": [43.46360692946946, 37.385052638053764, 19.151340432476776]}, \"tinfo\": {\"Term\": [\"pulsatiles\", \"mme\", \"recherche\", \"sachant\", \"responsable\", \"faire\", \"interet\", \"initialement\", \"informera\", \"situent\", \"hypertension\", \"souffle\", \"fistule\", \"explorations\", \"jugulaires\", \"suite\", \"durale\", \"douleurs\", \"survenue\", \"deux\", \"synchrones\", \"contexte\", \"conditions\", \"compression\", \"irm\", \"mail\", \"lors\", \"charge\", \"professeur\", \"prochainement\", \"responsable\", \"sachant\", \"heures\", \"source\", \"diurne\", \"dont\", \"serait\", \"place\", \"revois\", \"mise\", \"temps\", \"mieux\", \"quant\", \"nasacort\", \"notamment\", \"nuit\", \"premier\", \"oreille\", \"tanakan\", \"exister\", \"auditif\", \"toujours\", \"vis\", \"vertiges\", \"agenda\", \"vers\", \"ceci\", \"matin\", \"aggravation\", \"mis\", \"retrouve\", \"forte\", \"loche\", \"assez\", \"nos\", \"importante\", \"point\", \"polygraphique\", \"travail\", \"cabinet\", \"pratique\", \"ventilatoire\", \"ont\", \"prendre\", \"jeux\", \"origine\", \"orthodontique\", \"patient\", \"cervico\", \"orthoptique\", \"occlusodontiste\", \"partielle\", \"obtenir\", \"partir\", \"casque\", \"pente\", \"permanents\", \"envisager\", \"peuvent\", \"pneumologues\", \"modulant\", \"chu\", \"pratiquer\", \"continue\", \"blanc\", \"conversationnelles\", \"licite\", \"notion\", \"profession\", \"pourrions\", \"protection\", \"culminant\", \"inhibition\", \"rapidement\", \"pulsatiles\", \"mme\", \"recherche\", \"prochainement\", \"explorations\", \"avons\", \"otospongiose\", \"otologique\", \"auscultation\", \"ressentis\", \"had\", \"rochers\", \"audioprothetique\", \"informera\", \"scanner\", \"compression\", \"initialement\", \"conditions\", \"battement\", \"radiologue\", \"contexte\", \"pression\", \"hypertension\", \"charge\", \"cher\", \"permanence\", \"carotides\", \"cardiaque\", \"prise\", \"quinzaine\", \"neuroradiologue\", \"minor\", \"mars\", \"mail\", \"lors\", \"jugulaires\", \"irm\", \"interet\", \"patiente\", \"pathologie\", \"brutalement\", \"cervicale\"], \"Freq\": [1.0, 1.0, 1.0, 2.0, 2.0, 0.0, 0.0, 0.0, 0.0, 0.0, 0.0, 0.0, 0.0, 0.0, 0.0, 0.0, 0.0, 0.0, 0.0, 0.0, 0.0, 0.0, 0.0, 0.0, 0.0, 0.0, 0.0, 0.0, 0.0, 0.0, 2.008350176221319, 2.008350176221319, 1.4058378319433769, 1.4058378319433769, 1.4058378319433769, 1.4058378319433769, 1.4058378319433769, 1.4058378319433769, 1.4058378319433769, 1.4058378319433769, 1.4058378319433769, 1.4058378319433769, 1.4058378319433769, 1.4058378319433769, 1.4058378319433769, 1.4058378319433769, 1.4058378319433769, 1.4058378319433769, 1.4058378319433769, 1.4058378319433769, 1.4058378319433769, 1.4058378319433769, 1.4058378319433769, 1.4058378319433769, 1.4058378319433769, 1.4058378319433769, 0.8033246646263785, 0.8033246646263785, 0.8033246646263785, 0.8033246646263785, 1.320501972787149, 1.320501972787149, 1.320501972787149, 1.320501972787149, 1.320501972787149, 1.320501972787149, 1.320501972787149, 1.320501972787149, 1.320501972787149, 1.320501972787149, 1.320501972787149, 1.320501972787149, 1.320501972787149, 1.320501972787149, 1.320501972787149, 0.7545617184797299, 0.7545617184797299, 0.7545617184797299, 0.7545617184797299, 0.7545617184797299, 0.7545617184797299, 0.7545617184797299, 0.7545617184797299, 0.7545617184797299, 0.7545617184797299, 0.7545617184797299, 0.7545617184797299, 0.7545617184797299, 0.7545617184797299, 0.7545617184797299, 0.7545617184797299, 0.7545617184797299, 0.7545617184797299, 0.7545617184797299, 0.7545617184797299, 0.7545617184797299, 0.7545617184797299, 0.7545617184797299, 0.7545617184797299, 0.7545617184797299, 0.7545617184797299, 0.7545617184797299, 0.7545617184797299, 0.7545617184797299, 0.9344063199192727, 0.9344063199192727, 0.9344063199192727, 0.533937508997433, 0.533937508997433, 0.533937508997433, 0.533937508997433, 0.533937508997433, 0.533937508997433, 0.533937508997433, 0.533937508997433, 0.533937508997433, 0.533937508997433, 0.533937508997433, 0.533937508997433, 0.533937508997433, 0.533937508997433, 0.533937508997433, 0.533937508997433, 0.533937508997433, 0.533937508997433, 0.533937508997433, 0.533937508997433, 0.533937508997433, 0.533937508997433, 0.533937508997433, 0.533937508997433, 0.533937508997433, 0.533937508997433, 0.533937508997433, 0.533937508997433, 0.533937508997433, 0.533937508997433, 0.533937508997433, 0.533937508997433, 0.533937508997433, 0.533937508997433, 0.533937508997433, 0.533937508997433, 0.533937508997433, 0.533937508997433, 0.533937508997433], \"Total\": [1.0, 1.0, 1.0, 2.0, 2.0, 0.0, 0.0, 0.0, 0.0, 0.0, 0.0, 0.0, 0.0, 0.0, 0.0, 0.0, 0.0, 0.0, 0.0, 0.0, 0.0, 0.0, 0.0, 0.0, 0.0, 0.0, 0.0, 0.0, 0.0, 0.0, 2.3305033123620986, 2.3305033123620986, 1.7279913789698267, 1.7279913789698267, 1.7279913789698267, 1.7279913789698267, 1.7279913789698267, 1.7279913789698267, 1.7279913789698267, 1.7279913789698267, 1.7279913789698267, 1.7279913789698267, 1.7279913789698267, 1.7279913789698267, 1.7279913789698267, 1.7279913789698267, 1.7279913789698267, 1.7279913789698267, 1.7279913789698267, 1.7279913789698267, 1.7279913789698267, 1.7279913789698267, 1.7279913789698267, 1.7279913789698267, 1.7279913789698267, 1.7279913789698267, 1.1254792640238813, 1.1254792640238813, 1.1254792640238813, 1.1254792640238813, 1.654847380456551, 1.654847380456551, 1.654847380456551, 1.654847380456551, 1.654847380456551, 1.654847380456551, 1.654847380456551, 1.654847380456551, 1.654847380456551, 1.654847380456551, 1.654847380456551, 1.654847380456551, 1.654847380456551, 1.654847380456551, 1.654847380456551, 1.0889082315267555, 1.0889082315267555, 1.0889082315267555, 1.0889082315267555, 1.0889082315267555, 1.0889082315267555, 1.0889082315267555, 1.0889082315267555, 1.0889082315267555, 1.0889082315267555, 1.0889082315267555, 1.0889082315267555, 1.0889082315267555, 1.0889082315267555, 1.0889082315267555, 1.0889082315267555, 1.0889082315267555, 1.0889082315267555, 1.0889082315267555, 1.0889082315267555, 1.0889082315267555, 1.0889082315267555, 1.0889082315267555, 1.0889082315267555, 1.0889082315267555, 1.0889082315267555, 1.0889082315267555, 1.0889082315267555, 1.0889082315267555, 1.3239167064176156, 1.3239167064176156, 1.3239167064176156, 0.9234494635751777, 0.9234494635751777, 0.9234494635751777, 0.9234494635751777, 0.9234494635751777, 0.9234494635751777, 0.9234494635751777, 0.9234494635751777, 0.9234494635751777, 0.9234494635751777, 0.9234494635751777, 0.9234494635751777, 0.9234494635751777, 0.9234494635751777, 0.9234494635751777, 0.9234494635751777, 0.9234494635751777, 0.9234494635751777, 0.9234494635751777, 0.9234494635751777, 0.9234494635751777, 0.9234494635751777, 0.9234494635751777, 0.9234494635751777, 0.9234494635751777, 0.9234494635751777, 0.9234494635751777, 0.9234494635751777, 0.9234494635751777, 0.9234494635751777, 0.9234494635751777, 0.9234494635751777, 0.9234494635751777, 0.9234494635751777, 0.9234494635751777, 0.9234494635751777, 0.9234494635751777, 0.9234494635751777, 0.9234494635751777], \"Category\": [\"Default\", \"Default\", \"Default\", \"Default\", \"Default\", \"Default\", \"Default\", \"Default\", \"Default\", \"Default\", \"Default\", \"Default\", \"Default\", \"Default\", \"Default\", \"Default\", \"Default\", \"Default\", \"Default\", \"Default\", \"Default\", \"Default\", \"Default\", \"Default\", \"Default\", \"Default\", \"Default\", \"Default\", \"Default\", \"Default\", \"Topic1\", \"Topic1\", \"Topic1\", \"Topic1\", \"Topic1\", \"Topic1\", \"Topic1\", \"Topic1\", \"Topic1\", \"Topic1\", \"Topic1\", \"Topic1\", \"Topic1\", \"Topic1\", \"Topic1\", \"Topic1\", \"Topic1\", \"Topic1\", \"Topic1\", \"Topic1\", \"Topic1\", \"Topic1\", \"Topic1\", \"Topic1\", \"Topic1\", \"Topic1\", \"Topic1\", \"Topic1\", \"Topic1\", \"Topic1\", \"Topic2\", \"Topic2\", \"Topic2\", \"Topic2\", \"Topic2\", \"Topic2\", \"Topic2\", \"Topic2\", \"Topic2\", \"Topic2\", \"Topic2\", \"Topic2\", \"Topic2\", \"Topic2\", \"Topic2\", \"Topic2\", \"Topic2\", \"Topic2\", \"Topic2\", \"Topic2\", \"Topic2\", \"Topic2\", \"Topic2\", \"Topic2\", \"Topic2\", \"Topic2\", \"Topic2\", \"Topic2\", \"Topic2\", \"Topic2\", \"Topic2\", \"Topic2\", \"Topic2\", \"Topic2\", \"Topic2\", \"Topic2\", \"Topic2\", \"Topic2\", \"Topic2\", \"Topic2\", \"Topic2\", \"Topic2\", \"Topic2\", \"Topic2\", \"Topic3\", \"Topic3\", \"Topic3\", \"Topic3\", \"Topic3\", \"Topic3\", \"Topic3\", \"Topic3\", \"Topic3\", \"Topic3\", \"Topic3\", \"Topic3\", \"Topic3\", \"Topic3\", \"Topic3\", \"Topic3\", \"Topic3\", \"Topic3\", \"Topic3\", \"Topic3\", \"Topic3\", \"Topic3\", \"Topic3\", \"Topic3\", \"Topic3\", \"Topic3\", \"Topic3\", \"Topic3\", \"Topic3\", \"Topic3\", \"Topic3\", \"Topic3\", \"Topic3\", \"Topic3\", \"Topic3\", \"Topic3\", \"Topic3\", \"Topic3\", \"Topic3\", \"Topic3\", \"Topic3\", \"Topic3\"], \"logprob\": [30.0, 29.0, 28.0, 27.0, 26.0, 25.0, 24.0, 23.0, 22.0, 21.0, 20.0, 19.0, 18.0, 17.0, 16.0, 15.0, 14.0, 13.0, 12.0, 11.0, 10.0, 9.0, 8.0, 7.0, 6.0, 5.0, 4.0, 3.0, 2.0, 1.0, -4.2655, -4.2655, -4.6222, -4.6222, -4.6222, -4.6222, -4.6222, -4.6222, -4.6222, -4.6222, -4.6222, -4.6222, -4.6222, -4.6222, -4.6222, -4.6222, -4.6222, -4.6222, -4.6222, -4.6222, -4.6222, -4.6222, -4.6222, -4.6222, -4.6222, -4.6222, -5.1818, -5.1818, -5.1818, -5.1818, -4.5341, -4.5341, -4.5341, -4.5341, -4.5341, -4.5341, -4.5341, -4.5341, -4.5341, -4.5341, -4.5341, -4.5341, -4.5341, -4.5341, -4.5341, -5.0938, -5.0938, -5.0938, -5.0938, -5.0938, -5.0938, -5.0938, -5.0938, -5.0938, -5.0938, -5.0938, -5.0938, -5.0938, -5.0938, -5.0938, -5.0938, -5.0938, -5.0938, -5.0938, -5.0938, -5.0938, -5.0938, -5.0938, -5.0938, -5.0938, -5.0938, -5.0938, -5.0938, -5.0938, -4.2111, -4.2111, -4.2111, -4.7707, -4.7707, -4.7707, -4.7707, -4.7707, -4.7707, -4.7707, -4.7707, -4.7707, -4.7707, -4.7707, -4.7707, -4.7707, -4.7707, -4.7707, -4.7707, -4.7707, -4.7707, -4.7707, -4.7707, -4.7707, -4.7707, -4.7707, -4.7707, -4.7707, -4.7707, -4.7707, -4.7707, -4.7707, -4.7707, -4.7707, -4.7707, -4.7707, -4.7707, -4.7707, -4.7707, -4.7707, -4.7707, -4.7707], \"loglift\": [30.0, 29.0, 28.0, 27.0, 26.0, 25.0, 24.0, 23.0, 22.0, 21.0, 20.0, 19.0, 18.0, 17.0, 16.0, 15.0, 14.0, 13.0, 12.0, 11.0, 10.0, 9.0, 8.0, 7.0, 6.0, 5.0, 4.0, 3.0, 2.0, 1.0, 0.6845, 0.6845, 0.6269, 0.6269, 0.6269, 0.6269, 0.6269, 0.6269, 0.6269, 0.6269, 0.6269, 0.6269, 0.6269, 0.6269, 0.6269, 0.6269, 0.6269, 0.6269, 0.6269, 0.6269, 0.6269, 0.6269, 0.6269, 0.6269, 0.6269, 0.6269, 0.496, 0.496, 0.496, 0.496, 0.7582, 0.7582, 0.7582, 0.7582, 0.7582, 0.7582, 0.7582, 0.7582, 0.7582, 0.7582, 0.7582, 0.7582, 0.7582, 0.7582, 0.7582, 0.6171, 0.6171, 0.6171, 0.6171, 0.6171, 0.6171, 0.6171, 0.6171, 0.6171, 0.6171, 0.6171, 0.6171, 0.6171, 0.6171, 0.6171, 0.6171, 0.6171, 0.6171, 0.6171, 0.6171, 0.6171, 0.6171, 0.6171, 0.6171, 0.6171, 0.6171, 0.6171, 0.6171, 0.6171, 1.3044, 1.3044, 1.3044, 1.105, 1.105, 1.105, 1.105, 1.105, 1.105, 1.105, 1.105, 1.105, 1.105, 1.105, 1.105, 1.105, 1.105, 1.105, 1.105, 1.105, 1.105, 1.105, 1.105, 1.105, 1.105, 1.105, 1.105, 1.105, 1.105, 1.105, 1.105, 1.105, 1.105, 1.105, 1.105, 1.105, 1.105, 1.105, 1.105, 1.105, 1.105, 1.105]}, \"token.table\": {\"Topic\": [1, 1, 2, 3, 1, 3, 3, 3, 2, 3, 2, 3, 3, 2, 1, 3, 2, 3, 3, 2, 3, 3, 3, 2, 2, 2, 3, 1, 1, 3, 3, 2, 1, 3, 3, 3, 2, 3, 1, 3, 2, 3, 2, 3, 3, 3, 2, 3, 2, 2, 3, 3, 3, 1, 1, 3, 1, 1, 3, 2, 1, 3, 2, 1, 2, 1, 2, 2, 2, 1, 2, 2, 2, 3, 3, 2, 2, 3, 2, 3, 2, 3, 2, 2, 1, 2, 2, 2, 2, 2, 2, 1, 2, 3, 3, 3, 3, 2, 2, 3, 1, 3, 3, 2, 3, 1, 3, 2, 1, 3, 1, 3, 1, 3, 3, 1, 3, 3, 3, 1, 1, 1, 2, 2, 1, 1, 1], \"Freq\": [0.5787065908836698, 0.8885103723943698, 0.6042853327804241, 1.0828962920487857, 0.5787065908836698, 1.0828962920487857, 1.0828962920487857, 1.0828962920487857, 0.9183510336751725, 1.0828962920487857, 0.6042853327804241, 1.0828962920487857, 1.0828962920487857, 0.9183510336751725, 0.8885103723943698, 1.0828962920487857, 0.9183510336751725, 1.0828962920487857, 1.0828962920487857, 0.9183510336751725, 1.0828962920487857, 1.0828962920487857, 1.0828962920487857, 0.9183510336751725, 0.9183510336751725, 0.9183510336751725, 1.0828962920487857, 0.5787065908836698, 0.5787065908836698, 1.0828962920487857, 1.0828962920487857, 0.9183510336751725, 0.5787065908836698, 1.0828962920487857, 1.0828962920487857, 1.0828962920487857, 0.6042853327804241, 1.0828962920487857, 0.5787065908836698, 1.0828962920487857, 0.6042853327804241, 1.0828962920487857, 0.9183510336751725, 1.0828962920487857, 1.0828962920487857, 1.0828962920487857, 0.6042853327804241, 1.0828962920487857, 0.9183510336751725, 0.6042853327804241, 1.0828962920487857, 1.0828962920487857, 1.0828962920487857, 0.8885103723943698, 0.5787065908836698, 1.0828962920487857, 0.8885103723943698, 0.5787065908836698, 0.7553345275821004, 0.9183510336751725, 0.5787065908836698, 1.0828962920487857, 0.6042853327804241, 0.5787065908836698, 0.9183510336751725, 0.5787065908836698, 0.9183510336751725, 0.9183510336751725, 0.6042853327804241, 0.5787065908836698, 0.9183510336751725, 0.9183510336751725, 0.9183510336751725, 1.0828962920487857, 1.0828962920487857, 0.9183510336751725, 0.9183510336751725, 1.0828962920487857, 0.9183510336751725, 1.0828962920487857, 0.9183510336751725, 1.0828962920487857, 0.9183510336751725, 0.9183510336751725, 0.5787065908836698, 0.9183510336751725, 0.6042853327804241, 0.6042853327804241, 0.9183510336751725, 0.6042853327804241, 0.9183510336751725, 0.5787065908836698, 0.6042853327804241, 1.0828962920487857, 1.0828962920487857, 1.0828962920487857, 1.0828962920487857, 0.9183510336751725, 0.9183510336751725, 0.7553345275821004, 0.5787065908836698, 1.0828962920487857, 1.0828962920487857, 0.9183510336751725, 0.7553345275821004, 0.8581837191095366, 1.0828962920487857, 0.6042853327804241, 0.5787065908836698, 1.0828962920487857, 0.8581837191095366, 1.0828962920487857, 0.5787065908836698, 1.0828962920487857, 1.0828962920487857, 0.5787065908836698, 1.0828962920487857, 1.0828962920487857, 1.0828962920487857, 0.5787065908836698, 0.5787065908836698, 0.5787065908836698, 0.6042853327804241, 0.6042853327804241, 0.5787065908836698, 0.5787065908836698, 0.5787065908836698], \"Term\": [\"agenda\", \"aggravation\", \"assez\", \"audioprothetique\", \"auditif\", \"auscultation\", \"avons\", \"battement\", \"blanc\", \"brutalement\", \"cabinet\", \"cardiaque\", \"carotides\", \"casque\", \"ceci\", \"cervicale\", \"cervico\", \"charge\", \"cher\", \"chu\", \"compression\", \"conditions\", \"contexte\", \"continue\", \"conversationnelles\", \"culminant\", \"deux\", \"diurne\", \"dont\", \"douleurs\", \"durale\", \"envisager\", \"exister\", \"explorations\", \"faire\", \"fistule\", \"forte\", \"had\", \"heures\", \"hypertension\", \"importante\", \"informera\", \"inhibition\", \"initialement\", \"interet\", \"irm\", \"jeux\", \"jugulaires\", \"licite\", \"loche\", \"lors\", \"mail\", \"mars\", \"matin\", \"mieux\", \"minor\", \"mis\", \"mise\", \"mme\", \"modulant\", \"nasacort\", \"neuroradiologue\", \"nos\", \"notamment\", \"notion\", \"nuit\", \"obtenir\", \"occlusodontiste\", \"ont\", \"oreille\", \"origine\", \"orthodontique\", \"orthoptique\", \"otologique\", \"otospongiose\", \"partielle\", \"partir\", \"pathologie\", \"patient\", \"patiente\", \"pente\", \"permanence\", \"permanents\", \"peuvent\", \"place\", \"pneumologues\", \"point\", \"polygraphique\", \"pourrions\", \"pratique\", \"pratiquer\", \"premier\", \"prendre\", \"pression\", \"prise\", \"prochainement\", \"professeur\", \"profession\", \"protection\", \"pulsatiles\", \"quant\", \"quinzaine\", \"radiologue\", \"rapidement\", \"recherche\", \"responsable\", \"ressentis\", \"retrouve\", \"revois\", \"rochers\", \"sachant\", \"scanner\", \"serait\", \"situent\", \"souffle\", \"source\", \"suite\", \"survenue\", \"synchrones\", \"tanakan\", \"temps\", \"toujours\", \"travail\", \"ventilatoire\", \"vers\", \"vertiges\", \"vis\"]}, \"R\": 30, \"lambda.step\": 0.01, \"plot.opts\": {\"xlab\": \"PC1\", \"ylab\": \"PC2\"}, \"topic.order\": [1, 2, 3]};\n",
       "\n",
       "function LDAvis_load_lib(url, callback){\n",
       "  var s = document.createElement('script');\n",
       "  s.src = url;\n",
       "  s.async = true;\n",
       "  s.onreadystatechange = s.onload = callback;\n",
       "  s.onerror = function(){console.warn(\"failed to load library \" + url);};\n",
       "  document.getElementsByTagName(\"head\")[0].appendChild(s);\n",
       "}\n",
       "\n",
       "if(typeof(LDAvis) !== \"undefined\"){\n",
       "   // already loaded: just create the visualization\n",
       "   !function(LDAvis){\n",
       "       new LDAvis(\"#\" + \"ldavis_el150751403066449460002092077540\", ldavis_el150751403066449460002092077540_data);\n",
       "   }(LDAvis);\n",
       "}else if(typeof define === \"function\" && define.amd){\n",
       "   // require.js is available: use it to load d3/LDAvis\n",
       "   require.config({paths: {d3: \"https://cdnjs.cloudflare.com/ajax/libs/d3/3.5.5/d3.min\"}});\n",
       "   require([\"d3\"], function(d3){\n",
       "      window.d3 = d3;\n",
       "      LDAvis_load_lib(\"https://cdn.rawgit.com/bmabey/pyLDAvis/files/ldavis.v1.0.0.js\", function(){\n",
       "        new LDAvis(\"#\" + \"ldavis_el150751403066449460002092077540\", ldavis_el150751403066449460002092077540_data);\n",
       "      });\n",
       "    });\n",
       "}else{\n",
       "    // require.js not available: dynamically load d3 & LDAvis\n",
       "    LDAvis_load_lib(\"https://cdnjs.cloudflare.com/ajax/libs/d3/3.5.5/d3.min.js\", function(){\n",
       "         LDAvis_load_lib(\"https://cdn.rawgit.com/bmabey/pyLDAvis/files/ldavis.v1.0.0.js\", function(){\n",
       "                 new LDAvis(\"#\" + \"ldavis_el150751403066449460002092077540\", ldavis_el150751403066449460002092077540_data);\n",
       "            })\n",
       "         });\n",
       "}\n",
       "</script>"
      ],
      "text/plain": [
       "PreparedData(topic_coordinates=              x         y  topics  cluster       Freq\n",
       "topic                                                \n",
       "0      0.107703 -0.036274       1        1  43.463607\n",
       "1     -0.098528 -0.047448       2        1  37.385053\n",
       "2     -0.009175  0.083722       3        1  19.151340, topic_info=            Term      Freq     Total Category  logprob  loglift\n",
       "209   pulsatiles  1.000000  1.000000  Default  30.0000   30.000\n",
       "142          mme  1.000000  1.000000  Default  29.0000   29.000\n",
       "214    recherche  1.000000  1.000000  Default  28.0000   28.000\n",
       "232      sachant  2.000000  2.000000  Default  27.0000   27.000\n",
       "223  responsable  2.000000  2.000000  Default  26.0000   26.000\n",
       "..           ...       ...       ...      ...      ...      ...\n",
       "118      interet  0.533938  0.923449   Topic3  -4.7707    1.105\n",
       "176     patiente  0.533938  0.923449   Topic3  -4.7707    1.105\n",
       "174   pathologie  0.533938  0.923449   Topic3  -4.7707    1.105\n",
       "33   brutalement  0.533938  0.923449   Topic3  -4.7707    1.105\n",
       "44     cervicale  0.533938  0.923449   Topic3  -4.7707    1.105\n",
       "\n",
       "[146 rows x 6 columns], token_table=      Topic      Freq              Term\n",
       "term                                   \n",
       "3         1  0.578707            agenda\n",
       "4         1  0.888510       aggravation\n",
       "18        2  0.604285             assez\n",
       "23        3  1.082896  audioprothetique\n",
       "24        1  0.578707           auditif\n",
       "...     ...       ...               ...\n",
       "269       2  0.604285           travail\n",
       "276       2  0.604285      ventilatoire\n",
       "277       1  0.578707              vers\n",
       "279       1  0.578707          vertiges\n",
       "280       1  0.578707               vis\n",
       "\n",
       "[127 rows x 3 columns], R=30, lambda_step=0.01, plot_opts={'xlab': 'PC1', 'ylab': 'PC2'}, topic_order=[1, 2, 3])"
      ]
     },
     "execution_count": 57,
     "metadata": {},
     "output_type": "execute_result"
    }
   ],
   "source": [
    "pyLDAvis.sklearn.prepare(lda_tf, dtm_tf, tf_vectorizer)\n",
    "\n"
   ]
  },
  {
   "cell_type": "code",
   "execution_count": 66,
   "metadata": {
    "pycharm": {
     "name": "#%%\n"
    }
   },
   "outputs": [
    {
     "name": "stdout",
     "output_type": "stream",
     "text": [
      "Done saving the file\n"
     ]
    }
   ],
   "source": [
    "pickle.dump(lda_tf, open('../DATA/lda_tf.pk', 'wb'))\n",
    "\n",
    "pickle.dump(tf_vectorizer, open('../DATA/tf_vectorizer.pk', 'wb'))\n",
    "print(\"Done saving the file\")"
   ]
  },
  {
   "cell_type": "code",
   "execution_count": null,
   "metadata": {},
   "outputs": [],
   "source": []
  }
 ],
 "metadata": {
  "kernelspec": {
   "display_name": "Python 3",
   "language": "python",
   "name": "python3"
  },
  "language_info": {
   "codemirror_mode": {
    "name": "ipython",
    "version": 3
   },
   "file_extension": ".py",
   "mimetype": "text/x-python",
   "name": "python",
   "nbconvert_exporter": "python",
   "pygments_lexer": "ipython3",
   "version": "3.7.7"
  },
  "pycharm": {
   "stem_cell": {
    "cell_type": "raw",
    "metadata": {
     "collapsed": false
    },
    "source": []
   }
  }
 },
 "nbformat": 4,
 "nbformat_minor": 1
}
