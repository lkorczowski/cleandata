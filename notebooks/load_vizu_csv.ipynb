{
 "cells": [
  {
   "cell_type": "markdown",
   "metadata": {
    "pycharm": {
     "name": "#%% md\n"
    }
   },
   "source": [
    "Load and visualize csv data with panda"
   ]
  },
  {
   "cell_type": "code",
   "execution_count": 12,
   "metadata": {
    "collapsed": false,
    "jupyter": {
     "outputs_hidden": false
    },
    "pycharm": {
     "is_executing": false,
     "name": "#%%\n"
    }
   },
   "outputs": [
    {
     "name": "stdout",
     "output_type": "stream",
     "text": [
      "Config loaded\n"
     ]
    }
   ],
   "source": [
    "import os\n",
    "PATH = os.getcwd() \n",
    "import sys\n",
    "sys.path.append(PATH + '/../')\n",
    "\n",
    "import pandas as pd\n",
    "from utils.config import Config\n",
    "\n",
    "print(\"Config loaded\")"
   ]
  },
  {
   "cell_type": "code",
   "execution_count": 13,
   "metadata": {
    "collapsed": false,
    "jupyter": {
     "outputs_hidden": false
    },
    "pycharm": {
     "is_executing": false,
     "name": "#%%\n"
    }
   },
   "outputs": [
    {
     "name": "stdout",
     "output_type": "stream",
     "text": [
      "['/Users/louis/Data/SIOPI/BDD_Acouphene_Loche_v2.csv', '/Users/louis/Data/SIOPI/BDD_Acouphene_Loche_v3.csv', '/Users/louis/Data/SIOPI/BDD_Acouphene_Loche_v4.csv', '/Users/louis/Data/SIOPI/BDD_Acouphene_Loche_v5.csv']\n"
     ]
    },
    {
     "data": {
      "text/plain": [
       "0                                                  NaN\n",
       "1    1/09/2007\\nMerci de mavoir confié  Monsieur  ...\n",
       "2    Je rencontre à la demande du Docteur, Monsieur...\n",
       "3                                                  NaN\n",
       "4                                                  NaN\n",
       "5    Cher Confrère,\\n\\nMerci de m'avoir confié Mme ...\n",
       "6                                                  NaN\n",
       "7                                                  NaN\n",
       "8                                                  NaN\n",
       "9                                                  NaN\n",
       "Name: courrier, dtype: object"
      ]
     },
     "execution_count": 13,
     "metadata": {},
     "output_type": "execute_result"
    }
   ],
   "source": [
    "print(Config.csv_files)\n",
    "df = pd.read_csv(Config.csv_files[-1], sep=';', encoding='ISO-8859-1')\n",
    "df.columns\n",
    "\n",
    "df[\"courrier\"] # this is what we should spare"
   ]
  },
  {
   "cell_type": "code",
   "execution_count": 4,
   "metadata": {
    "collapsed": false,
    "jupyter": {
     "outputs_hidden": false
    },
    "pycharm": {
     "is_executing": false,
     "name": "#%%\n"
    }
   },
   "outputs": [],
   "source": [
    "#TODO: preprocessed in BOW\n"
   ]
  },
  {
   "cell_type": "code",
   "execution_count": null,
   "metadata": {
    "collapsed": false,
    "jupyter": {
     "outputs_hidden": false
    },
    "pycharm": {
     "name": "#%%\n"
    }
   },
   "outputs": [],
   "source": [
    "#TODO: train LDA model"
   ]
  },
  {
   "cell_type": "code",
   "execution_count": null,
   "metadata": {
    "collapsed": false,
    "jupyter": {
     "outputs_hidden": false
    },
    "pycharm": {
     "name": "#%%\n"
    }
   },
   "outputs": [],
   "source": [
    "#TODO: visualize using pyLDA"
   ]
  },
  {
   "cell_type": "code",
   "execution_count": null,
   "metadata": {
    "collapsed": false,
    "jupyter": {
     "outputs_hidden": false
    },
    "pycharm": {
     "name": "#%%\n"
    }
   },
   "outputs": [],
   "source": [
    "#TODO: use trained model to \n"
   ]
  }
 ],
 "metadata": {
  "kernelspec": {
   "display_name": "cleandata-kernel",
   "language": "python",
   "name": "cleandata-kernel"
  },
  "language_info": {
   "codemirror_mode": {
    "name": "ipython",
    "version": 3
   },
   "file_extension": ".py",
   "mimetype": "text/x-python",
   "name": "python",
   "nbconvert_exporter": "python",
   "pygments_lexer": "ipython3",
   "version": "3.7.7"
  },
  "pycharm": {
   "stem_cell": {
    "cell_type": "raw",
    "metadata": {
     "collapsed": false
    },
    "source": []
   }
  }
 },
 "nbformat": 4,
 "nbformat_minor": 4
}
