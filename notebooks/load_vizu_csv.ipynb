{
 "cells": [
  {
   "cell_type": "markdown",
   "metadata": {
    "collapsed": true,
    "pycharm": {
     "name": "#%% md\n"
    }
   },
   "source": [
    "Load and visualize csv data with panda"
   ]
  },
  {
   "cell_type": "code",
   "execution_count": 1,
   "outputs": [
    {
     "name": "stdout",
     "text": [
      "Config loaded\n"
     ],
     "output_type": "stream"
    }
   ],
   "source": [
    "import pandas as pd\n",
    "from utils.config import Config\n",
    "\n",
    "print(\"Config loaded\")"
   ],
   "metadata": {
    "collapsed": false,
    "pycharm": {
     "name": "#%%\n",
     "is_executing": false
    }
   }
  },
  {
   "cell_type": "code",
   "execution_count": 3,
   "outputs": [
    {
     "name": "stdout",
     "text": [
      "['/Users/louis/Data/SIOPI/BDD_Acouphene_Loche_v2.csv', '/Users/louis/Data/SIOPI/BDD_Acouphene_Loche_v3.csv', '/Users/louis/Data/SIOPI/BDD_Acouphene_Loche_v4.csv', '/Users/louis/Data/SIOPI/BDD_Acouphene_Loche_v5.csv']\n"
     ],
     "output_type": "stream"
    },
    {
     "data": {
      "text/plain": "0                                                  NaN\n1    1/09/2007\\nMerci de mavoir confié  Monsieur  ...\n2    Je rencontre à la demande du Docteur, Monsieur...\n3                                                  NaN\n4                                                  NaN\n5    Cher Confrère,\\n\\nMerci de m'avoir confié Mme ...\n6                                                  NaN\n7                                                  NaN\n8                                                  NaN\n9                                                  NaN\nName: courrier, dtype: object"
     },
     "metadata": {},
     "output_type": "execute_result",
     "execution_count": 3
    }
   ],
   "source": [
    "print(Config.csv_files)\n",
    "df = pd.read_csv(Config.csv_files[-1], sep=';', encoding='ISO-8859-1')\n",
    "df.columns\n",
    "\n",
    "df[\"courrier\"] # this is what we should spare"
   ],
   "metadata": {
    "collapsed": false,
    "pycharm": {
     "name": "#%%\n",
     "is_executing": false
    }
   }
  },
  {
   "cell_type": "code",
   "execution_count": 4,
   "outputs": [],
   "source": [
    "#TODO: preprocessed in BOW\n"
   ],
   "metadata": {
    "collapsed": false,
    "pycharm": {
     "name": "#%%\n",
     "is_executing": false
    }
   }
  },
  {
   "cell_type": "code",
   "execution_count": null,
   "outputs": [],
   "source": [
    "#TODO: train LDA model"
   ],
   "metadata": {
    "collapsed": false,
    "pycharm": {
     "name": "#%%\n"
    }
   }
  },
  {
   "cell_type": "code",
   "execution_count": null,
   "outputs": [],
   "source": [
    "#TODO: visualize using pyLDA"
   ],
   "metadata": {
    "collapsed": false,
    "pycharm": {
     "name": "#%%\n"
    }
   }
  },
  {
   "cell_type": "code",
   "execution_count": null,
   "outputs": [],
   "source": [
    "#TODO: use trained model to \n"
   ],
   "metadata": {
    "collapsed": false,
    "pycharm": {
     "name": "#%%\n"
    }
   }
  }
 ],
 "metadata": {
  "kernelspec": {
   "display_name": "Python 3",
   "language": "python",
   "name": "python3"
  },
  "language_info": {
   "codemirror_mode": {
    "name": "ipython",
    "version": 2
   },
   "file_extension": ".py",
   "mimetype": "text/x-python",
   "name": "python",
   "nbconvert_exporter": "python",
   "pygments_lexer": "ipython2",
   "version": "2.7.6"
  },
  "pycharm": {
   "stem_cell": {
    "cell_type": "raw",
    "source": [],
    "metadata": {
     "collapsed": false
    }
   }
  }
 },
 "nbformat": 4,
 "nbformat_minor": 0
}